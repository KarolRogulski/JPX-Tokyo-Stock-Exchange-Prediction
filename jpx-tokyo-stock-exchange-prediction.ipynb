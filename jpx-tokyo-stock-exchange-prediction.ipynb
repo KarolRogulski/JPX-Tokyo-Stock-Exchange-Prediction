{
 "cells": [
  {
   "cell_type": "code",
   "execution_count": 1,
   "id": "70400488",
   "metadata": {
    "execution": {
     "iopub.execute_input": "2022-05-02T18:13:52.949389Z",
     "iopub.status.busy": "2022-05-02T18:13:52.948652Z",
     "iopub.status.idle": "2022-05-02T18:13:52.954531Z",
     "shell.execute_reply": "2022-05-02T18:13:52.953702Z"
    },
    "papermill": {
     "duration": 0.041051,
     "end_time": "2022-05-02T18:13:52.957905",
     "exception": false,
     "start_time": "2022-05-02T18:13:52.916854",
     "status": "completed"
    },
    "tags": []
   },
   "outputs": [],
   "source": [
    "# TODO\n",
    "# check how test gone /n\n",
    "# features from volume\n",
    "# do separate notebook to testing algo with GPU\n",
    "# use values from day before\n",
    "# features from data\n",
    "# Shorting dividend days = easy score boost https://www.kaggle.com/competitions/jpx-tokyo-stock-exchange-prediction/discussion/320836"
   ]
  },
  {
   "cell_type": "code",
   "execution_count": 2,
   "id": "c332390e",
   "metadata": {
    "execution": {
     "iopub.execute_input": "2022-05-02T18:13:53.022527Z",
     "iopub.status.busy": "2022-05-02T18:13:53.021948Z",
     "iopub.status.idle": "2022-05-02T18:13:53.032661Z",
     "shell.execute_reply": "2022-05-02T18:13:53.031753Z"
    },
    "papermill": {
     "duration": 0.04596,
     "end_time": "2022-05-02T18:13:53.035308",
     "exception": false,
     "start_time": "2022-05-02T18:13:52.989348",
     "status": "completed"
    },
    "tags": []
   },
   "outputs": [],
   "source": [
    "import numpy as np\n",
    "import pandas as pd\n",
    "import matplotlib.pyplot as plt"
   ]
  },
  {
   "cell_type": "markdown",
   "id": "2c2f372c",
   "metadata": {
    "papermill": {
     "duration": 0.030818,
     "end_time": "2022-05-02T18:13:53.097843",
     "exception": false,
     "start_time": "2022-05-02T18:13:53.067025",
     "status": "completed"
    },
    "tags": []
   },
   "source": [
    "## Functions"
   ]
  },
  {
   "cell_type": "code",
   "execution_count": 3,
   "id": "3912dbe1",
   "metadata": {
    "execution": {
     "iopub.execute_input": "2022-05-02T18:13:53.159520Z",
     "iopub.status.busy": "2022-05-02T18:13:53.159196Z",
     "iopub.status.idle": "2022-05-02T18:13:53.171165Z",
     "shell.execute_reply": "2022-05-02T18:13:53.170155Z"
    },
    "papermill": {
     "duration": 0.045583,
     "end_time": "2022-05-02T18:13:53.173512",
     "exception": false,
     "start_time": "2022-05-02T18:13:53.127929",
     "status": "completed"
    },
    "tags": []
   },
   "outputs": [],
   "source": [
    "from decimal import ROUND_HALF_UP, Decimal\n",
    "def adjust_price(price):\n",
    "    \"\"\"\n",
    "    We will generate AdjustedClose using AdjustmentFactor value. \n",
    "    This should reduce historical price gap caused by split/reverse-split.\n",
    "    \n",
    "    Args:\n",
    "        price (pd.DataFrame)  : pd.DataFrame include stock_price\n",
    "    Returns:\n",
    "        price DataFrame (pd.DataFrame): stock_price with generated AdjustedClose\n",
    "    \"\"\"\n",
    "    # transform Date column into datetime\n",
    "    price.loc[: ,\"Date\"] = pd.to_datetime(price.loc[: ,\"Date\"], format=\"%Y-%m-%d\")\n",
    "\n",
    "    def generate_adjusted_close(df):\n",
    "        \"\"\"\n",
    "        Args:\n",
    "            df (pd.DataFrame)  : stock_price for a single SecuritiesCode\n",
    "        Returns:\n",
    "            df (pd.DataFrame): stock_price with AdjustedClose for a single SecuritiesCode\n",
    "        \"\"\"\n",
    "        # sort data to generate CumulativeAdjustmentFactor\n",
    "        df = df.sort_values(\"Date\", ascending=False)\n",
    "        # generate CumulativeAdjustmentFactor\n",
    "        df.loc[:, \"CumulativeAdjustmentFactor\"] = df[\"AdjustmentFactor\"].cumprod()\n",
    "        \n",
    "        # generate AdjustedClose\n",
    "        df.loc[:, \"Close\"] = (\n",
    "            df[\"CumulativeAdjustmentFactor\"] * df[\"Close\"]\n",
    "        ).map(lambda x: float(\n",
    "            Decimal(str(x)).quantize(Decimal('0.1'), rounding=ROUND_HALF_UP)\n",
    "        ))\n",
    "        # reverse order\n",
    "        df = df.sort_values(\"Date\")\n",
    "        # to fill AdjustedClose, replace 0 into np.nan\n",
    "        df.loc[df[\"Close\"] == 0, \"Close\"] = np.nan\n",
    "        # forward fill AdjustedClose\n",
    "        df.loc[:, \"Close\"] = df.loc[:, \"Close\"].ffill()\n",
    "        return df\n",
    "\n",
    "    # generate AdjustedClose\n",
    "    price = price.sort_values([\"SecuritiesCode\", \"Date\"])\n",
    "    price = price.groupby(\"SecuritiesCode\").apply(generate_adjusted_close).reset_index(drop=True)\n",
    "\n",
    "    price.set_index(\"Date\", inplace=True)\n",
    "    return price"
   ]
  },
  {
   "cell_type": "code",
   "execution_count": 4,
   "id": "afb87b06",
   "metadata": {
    "execution": {
     "iopub.execute_input": "2022-05-02T18:13:53.237699Z",
     "iopub.status.busy": "2022-05-02T18:13:53.237358Z",
     "iopub.status.idle": "2022-05-02T18:13:53.245638Z",
     "shell.execute_reply": "2022-05-02T18:13:53.244396Z"
    },
    "papermill": {
     "duration": 0.043116,
     "end_time": "2022-05-02T18:13:53.247976",
     "exception": false,
     "start_time": "2022-05-02T18:13:53.204860",
     "status": "completed"
    },
    "tags": []
   },
   "outputs": [],
   "source": [
    "def adjust_col(df):\n",
    "    df = df.sort_values(by=['SecuritiesCode', 'Date'])\n",
    "    \n",
    "    changes = df[df.AdjustmentFactor != 1.0]\n",
    "    df['AFoverall'] = 1.0\n",
    "\n",
    "    for index, row in changes.iterrows():\n",
    "#         print(row.Date, row.AdjustmentFactor)\n",
    "        df.loc[((df['Date'] > row.Date) & (df['SecuritiesCode'] == row.SecuritiesCode)), 'AFoverall'] = df.AFoverall / row.AdjustmentFactor\n",
    "\n",
    "    df.Close = df.Close * df.AFoverall\n",
    "    df.High = df.High * df.AFoverall\n",
    "    df.Low = df.Low * df.AFoverall\n",
    "    df.Open = df.Open * df.AFoverall\n",
    "\n",
    "    return df"
   ]
  },
  {
   "cell_type": "code",
   "execution_count": 5,
   "id": "0adf8011",
   "metadata": {
    "execution": {
     "iopub.execute_input": "2022-05-02T18:13:53.315062Z",
     "iopub.status.busy": "2022-05-02T18:13:53.314679Z",
     "iopub.status.idle": "2022-05-02T18:13:53.330117Z",
     "shell.execute_reply": "2022-05-02T18:13:53.329125Z"
    },
    "papermill": {
     "duration": 0.0522,
     "end_time": "2022-05-02T18:13:53.332221",
     "exception": false,
     "start_time": "2022-05-02T18:13:53.280021",
     "status": "completed"
    },
    "tags": []
   },
   "outputs": [],
   "source": [
    "def feature_engineering(df):\n",
    "    # Dates\n",
    "#     df['dayofweek'] = df.Date.dt.dayofweek\n",
    "#     df['week'] = df.Date.dt.week\n",
    "#     df['month'] = df.Date.dt.month\n",
    "#     df['year'] = df.Date.dt.year\n",
    "#     df = df.drop('Date', axis=1)\n",
    "    \n",
    "    df['CloseMinusOpen'] = df.Close - df.Open\n",
    "    df['CloseDivOpen'] = df.Close / df.Open\n",
    "    df['HighMinusLow'] = df.High - df.Low\n",
    "    df['HighDivLow'] = df.High / df.Low\n",
    "    df['HighDivClose'] = df.High / df.Close\n",
    "    df['LowDivClose'] = df.Low / df.Close\n",
    "    \n",
    "    df['Upper_Shadow'] = df['High'] - np.maximum(df['Close'], df['Open'])\n",
    "    df['Lower_Shadow'] = np.minimum(df['Close'], df['Open']) - df['Low']\n",
    "    \n",
    "    # https://www.kaggle.com/code/lucasmorin/jpx-online-feature-engineering-prices\n",
    "    df['Avg_Price'] = (df['Close']+df['Open'])/2\n",
    "    df['Avg_Price_HL'] = (df['High']+df['Low'])/2\n",
    "    df['Side'] = 2*(df['Avg_Price']-df['Avg_Price_HL'])/(df['High']-df['Low'])\n",
    "    \n",
    "    df['ret_H'] = df['High']/df['Open']-1\n",
    "    df['ret_L'] = df['Low']/df['Open']-1\n",
    "    df['ret'] = df['Close']/df['Open']-1\n",
    "#     df['ret_Div'] = df['ExpectedDividend']/df['Open']\n",
    "    \n",
    "    df['log_Dollars'] = np.log(df['Avg_Price']*df['Volume'])\n",
    "    \n",
    "    df['GK_sqrt_vol'] = np.sqrt((1 / 2 * np.log(df['High']/df['Low']) ** 2 - (2 * np.log(2) - 1) * np.log(df['Close'] / df['Open']) ** 2))\n",
    "    df['RS_sqrt_vol'] = np.sqrt(np.log(df['High']/df['Close'])*np.log(df['High']/df['Open']) + np.log(df['Low']/df['Close'])*np.log(df['Low']/df['Open']))\n",
    "    # https://www.kaggle.com/code/lucasmorin/jpx-online-feature-engineering-prices\n",
    "#     # https://www.kaggle.com/code/satoshidatamoto/1st-place-of-jane-street-adapted-to-jpx\n",
    "# #     df['shadow1'] = df['trade'] / df['Volume']\n",
    "#     df['shadow3'] = df['Upper_Shadow'] / df['Volume']\n",
    "#     df['shadow5'] = df['Lower_Shadow'] / df['Volume']    \n",
    "#     df['mean1'] = (df['shadow5'] + df['shadow3']) / 2\n",
    "# #     df['mean2'] = (df['shadow1'] + df['Volume']) / 2\n",
    "#     # https://www.kaggle.com/code/satoshidatamoto/1st-place-of-jane-street-adapted-to-jpx\n",
    "    return df"
   ]
  },
  {
   "cell_type": "code",
   "execution_count": 6,
   "id": "fe9a7d8f",
   "metadata": {
    "execution": {
     "iopub.execute_input": "2022-05-02T18:13:53.401227Z",
     "iopub.status.busy": "2022-05-02T18:13:53.400944Z",
     "iopub.status.idle": "2022-05-02T18:13:53.407165Z",
     "shell.execute_reply": "2022-05-02T18:13:53.405873Z"
    },
    "papermill": {
     "duration": 0.044105,
     "end_time": "2022-05-02T18:13:53.409468",
     "exception": false,
     "start_time": "2022-05-02T18:13:53.365363",
     "status": "completed"
    },
    "tags": []
   },
   "outputs": [],
   "source": [
    "def fill_na(df):\n",
    "    df['Open'] = df['Open'].fillna(method='bfill')\n",
    "    df['High'] = df['High'].fillna(method='bfill')\n",
    "    df['Low'] = df['Low'].fillna(method='bfill')\n",
    "    df['Close'] = df['Close'].fillna(method='bfill')\n",
    "    return df"
   ]
  },
  {
   "cell_type": "code",
   "execution_count": 7,
   "id": "4e623100",
   "metadata": {
    "execution": {
     "iopub.execute_input": "2022-05-02T18:13:53.476180Z",
     "iopub.status.busy": "2022-05-02T18:13:53.475639Z",
     "iopub.status.idle": "2022-05-02T18:13:54.581567Z",
     "shell.execute_reply": "2022-05-02T18:13:54.580697Z"
    },
    "papermill": {
     "duration": 1.139364,
     "end_time": "2022-05-02T18:13:54.584049",
     "exception": false,
     "start_time": "2022-05-02T18:13:53.444685",
     "status": "completed"
    },
    "tags": []
   },
   "outputs": [],
   "source": [
    "from sklearn.preprocessing import OrdinalEncoder\n",
    "\n",
    "def preprocess(prices, options=None, financials=None, trades=None, secondary_prices=None, sample_prediction=None):\n",
    "#     prices = adjust_col(prices)\n",
    "    prices = adjust_price(prices)\n",
    "#     prices['Date'] = pd.to_datetime(prices['Date'])\n",
    "    features = [\"SecuritiesCode\", \"Open\", \"High\", \"Low\", \"Close\", 'Volume']#, 'AdjustmentFactor']\n",
    "    prices = prices.loc[:,features]\n",
    "    \n",
    "    prices = fill_na(prices)\n",
    "#     if 'ExpectedDividend' in prices:\n",
    "#         prices = prices.drop(\"ExpectedDividend\", axis=1)\n",
    "        \n",
    "    enc = OrdinalEncoder()\n",
    "    prices[\"SecuritiesCode\"] = enc.fit_transform(prices[[\"SecuritiesCode\"]])\n",
    "    \n",
    "    prices = feature_engineering(prices)\n",
    "    return prices"
   ]
  },
  {
   "cell_type": "markdown",
   "id": "66e3fa60",
   "metadata": {
    "papermill": {
     "duration": 0.029421,
     "end_time": "2022-05-02T18:13:54.645027",
     "exception": false,
     "start_time": "2022-05-02T18:13:54.615606",
     "status": "completed"
    },
    "tags": []
   },
   "source": [
    "## Data"
   ]
  },
  {
   "cell_type": "code",
   "execution_count": 8,
   "id": "dc9c204b",
   "metadata": {
    "execution": {
     "iopub.execute_input": "2022-05-02T18:13:54.705878Z",
     "iopub.status.busy": "2022-05-02T18:13:54.705593Z",
     "iopub.status.idle": "2022-05-02T18:13:54.709739Z",
     "shell.execute_reply": "2022-05-02T18:13:54.708812Z"
    },
    "papermill": {
     "duration": 0.037465,
     "end_time": "2022-05-02T18:13:54.711804",
     "exception": false,
     "start_time": "2022-05-02T18:13:54.674339",
     "status": "completed"
    },
    "tags": []
   },
   "outputs": [],
   "source": [
    "p_train = '../input/jpx-tokyo-stock-exchange-prediction/train_files/'\n",
    "p_supp = '../input/jpx-tokyo-stock-exchange-prediction/supplemental_files/'"
   ]
  },
  {
   "cell_type": "code",
   "execution_count": 9,
   "id": "730b91c7",
   "metadata": {
    "execution": {
     "iopub.execute_input": "2022-05-02T18:13:54.773479Z",
     "iopub.status.busy": "2022-05-02T18:13:54.772853Z",
     "iopub.status.idle": "2022-05-02T18:14:02.335428Z",
     "shell.execute_reply": "2022-05-02T18:14:02.334619Z"
    },
    "papermill": {
     "duration": 7.597692,
     "end_time": "2022-05-02T18:14:02.338539",
     "exception": false,
     "start_time": "2022-05-02T18:13:54.740847",
     "status": "completed"
    },
    "tags": []
   },
   "outputs": [
    {
     "data": {
      "text/html": [
       "<div>\n",
       "<style scoped>\n",
       "    .dataframe tbody tr th:only-of-type {\n",
       "        vertical-align: middle;\n",
       "    }\n",
       "\n",
       "    .dataframe tbody tr th {\n",
       "        vertical-align: top;\n",
       "    }\n",
       "\n",
       "    .dataframe thead th {\n",
       "        text-align: right;\n",
       "    }\n",
       "</style>\n",
       "<table border=\"1\" class=\"dataframe\">\n",
       "  <thead>\n",
       "    <tr style=\"text-align: right;\">\n",
       "      <th></th>\n",
       "      <th>RowId</th>\n",
       "      <th>Date</th>\n",
       "      <th>SecuritiesCode</th>\n",
       "      <th>Open</th>\n",
       "      <th>High</th>\n",
       "      <th>Low</th>\n",
       "      <th>Close</th>\n",
       "      <th>Volume</th>\n",
       "      <th>AdjustmentFactor</th>\n",
       "      <th>ExpectedDividend</th>\n",
       "      <th>SupervisionFlag</th>\n",
       "      <th>Target</th>\n",
       "    </tr>\n",
       "  </thead>\n",
       "  <tbody>\n",
       "    <tr>\n",
       "      <th>0</th>\n",
       "      <td>20170104_1301</td>\n",
       "      <td>2017-01-04</td>\n",
       "      <td>1301</td>\n",
       "      <td>2734.0</td>\n",
       "      <td>2755.0</td>\n",
       "      <td>2730.0</td>\n",
       "      <td>2742.0</td>\n",
       "      <td>31400</td>\n",
       "      <td>1.0</td>\n",
       "      <td>NaN</td>\n",
       "      <td>False</td>\n",
       "      <td>0.000730</td>\n",
       "    </tr>\n",
       "    <tr>\n",
       "      <th>1</th>\n",
       "      <td>20170104_1332</td>\n",
       "      <td>2017-01-04</td>\n",
       "      <td>1332</td>\n",
       "      <td>568.0</td>\n",
       "      <td>576.0</td>\n",
       "      <td>563.0</td>\n",
       "      <td>571.0</td>\n",
       "      <td>2798500</td>\n",
       "      <td>1.0</td>\n",
       "      <td>NaN</td>\n",
       "      <td>False</td>\n",
       "      <td>0.012324</td>\n",
       "    </tr>\n",
       "    <tr>\n",
       "      <th>2</th>\n",
       "      <td>20170104_1333</td>\n",
       "      <td>2017-01-04</td>\n",
       "      <td>1333</td>\n",
       "      <td>3150.0</td>\n",
       "      <td>3210.0</td>\n",
       "      <td>3140.0</td>\n",
       "      <td>3210.0</td>\n",
       "      <td>270800</td>\n",
       "      <td>1.0</td>\n",
       "      <td>NaN</td>\n",
       "      <td>False</td>\n",
       "      <td>0.006154</td>\n",
       "    </tr>\n",
       "    <tr>\n",
       "      <th>3</th>\n",
       "      <td>20170104_1376</td>\n",
       "      <td>2017-01-04</td>\n",
       "      <td>1376</td>\n",
       "      <td>1510.0</td>\n",
       "      <td>1550.0</td>\n",
       "      <td>1510.0</td>\n",
       "      <td>1550.0</td>\n",
       "      <td>11300</td>\n",
       "      <td>1.0</td>\n",
       "      <td>NaN</td>\n",
       "      <td>False</td>\n",
       "      <td>0.011053</td>\n",
       "    </tr>\n",
       "    <tr>\n",
       "      <th>4</th>\n",
       "      <td>20170104_1377</td>\n",
       "      <td>2017-01-04</td>\n",
       "      <td>1377</td>\n",
       "      <td>3270.0</td>\n",
       "      <td>3350.0</td>\n",
       "      <td>3270.0</td>\n",
       "      <td>3330.0</td>\n",
       "      <td>150800</td>\n",
       "      <td>1.0</td>\n",
       "      <td>NaN</td>\n",
       "      <td>False</td>\n",
       "      <td>0.003026</td>\n",
       "    </tr>\n",
       "    <tr>\n",
       "      <th>...</th>\n",
       "      <td>...</td>\n",
       "      <td>...</td>\n",
       "      <td>...</td>\n",
       "      <td>...</td>\n",
       "      <td>...</td>\n",
       "      <td>...</td>\n",
       "      <td>...</td>\n",
       "      <td>...</td>\n",
       "      <td>...</td>\n",
       "      <td>...</td>\n",
       "      <td>...</td>\n",
       "      <td>...</td>\n",
       "    </tr>\n",
       "    <tr>\n",
       "      <th>2332526</th>\n",
       "      <td>20211203_9990</td>\n",
       "      <td>2021-12-03</td>\n",
       "      <td>9990</td>\n",
       "      <td>514.0</td>\n",
       "      <td>528.0</td>\n",
       "      <td>513.0</td>\n",
       "      <td>528.0</td>\n",
       "      <td>44200</td>\n",
       "      <td>1.0</td>\n",
       "      <td>NaN</td>\n",
       "      <td>False</td>\n",
       "      <td>0.034816</td>\n",
       "    </tr>\n",
       "    <tr>\n",
       "      <th>2332527</th>\n",
       "      <td>20211203_9991</td>\n",
       "      <td>2021-12-03</td>\n",
       "      <td>9991</td>\n",
       "      <td>782.0</td>\n",
       "      <td>794.0</td>\n",
       "      <td>782.0</td>\n",
       "      <td>794.0</td>\n",
       "      <td>35900</td>\n",
       "      <td>1.0</td>\n",
       "      <td>NaN</td>\n",
       "      <td>False</td>\n",
       "      <td>0.025478</td>\n",
       "    </tr>\n",
       "    <tr>\n",
       "      <th>2332528</th>\n",
       "      <td>20211203_9993</td>\n",
       "      <td>2021-12-03</td>\n",
       "      <td>9993</td>\n",
       "      <td>1690.0</td>\n",
       "      <td>1690.0</td>\n",
       "      <td>1645.0</td>\n",
       "      <td>1645.0</td>\n",
       "      <td>7200</td>\n",
       "      <td>1.0</td>\n",
       "      <td>NaN</td>\n",
       "      <td>False</td>\n",
       "      <td>-0.004302</td>\n",
       "    </tr>\n",
       "    <tr>\n",
       "      <th>2332529</th>\n",
       "      <td>20211203_9994</td>\n",
       "      <td>2021-12-03</td>\n",
       "      <td>9994</td>\n",
       "      <td>2388.0</td>\n",
       "      <td>2396.0</td>\n",
       "      <td>2380.0</td>\n",
       "      <td>2389.0</td>\n",
       "      <td>6500</td>\n",
       "      <td>1.0</td>\n",
       "      <td>NaN</td>\n",
       "      <td>False</td>\n",
       "      <td>0.009098</td>\n",
       "    </tr>\n",
       "    <tr>\n",
       "      <th>2332530</th>\n",
       "      <td>20211203_9997</td>\n",
       "      <td>2021-12-03</td>\n",
       "      <td>9997</td>\n",
       "      <td>690.0</td>\n",
       "      <td>711.0</td>\n",
       "      <td>686.0</td>\n",
       "      <td>696.0</td>\n",
       "      <td>381100</td>\n",
       "      <td>1.0</td>\n",
       "      <td>NaN</td>\n",
       "      <td>False</td>\n",
       "      <td>0.018414</td>\n",
       "    </tr>\n",
       "  </tbody>\n",
       "</table>\n",
       "<p>2332531 rows × 12 columns</p>\n",
       "</div>"
      ],
      "text/plain": [
       "                 RowId       Date  SecuritiesCode    Open    High     Low  \\\n",
       "0        20170104_1301 2017-01-04            1301  2734.0  2755.0  2730.0   \n",
       "1        20170104_1332 2017-01-04            1332   568.0   576.0   563.0   \n",
       "2        20170104_1333 2017-01-04            1333  3150.0  3210.0  3140.0   \n",
       "3        20170104_1376 2017-01-04            1376  1510.0  1550.0  1510.0   \n",
       "4        20170104_1377 2017-01-04            1377  3270.0  3350.0  3270.0   \n",
       "...                ...        ...             ...     ...     ...     ...   \n",
       "2332526  20211203_9990 2021-12-03            9990   514.0   528.0   513.0   \n",
       "2332527  20211203_9991 2021-12-03            9991   782.0   794.0   782.0   \n",
       "2332528  20211203_9993 2021-12-03            9993  1690.0  1690.0  1645.0   \n",
       "2332529  20211203_9994 2021-12-03            9994  2388.0  2396.0  2380.0   \n",
       "2332530  20211203_9997 2021-12-03            9997   690.0   711.0   686.0   \n",
       "\n",
       "          Close   Volume  AdjustmentFactor  ExpectedDividend  SupervisionFlag  \\\n",
       "0        2742.0    31400               1.0               NaN            False   \n",
       "1         571.0  2798500               1.0               NaN            False   \n",
       "2        3210.0   270800               1.0               NaN            False   \n",
       "3        1550.0    11300               1.0               NaN            False   \n",
       "4        3330.0   150800               1.0               NaN            False   \n",
       "...         ...      ...               ...               ...              ...   \n",
       "2332526   528.0    44200               1.0               NaN            False   \n",
       "2332527   794.0    35900               1.0               NaN            False   \n",
       "2332528  1645.0     7200               1.0               NaN            False   \n",
       "2332529  2389.0     6500               1.0               NaN            False   \n",
       "2332530   696.0   381100               1.0               NaN            False   \n",
       "\n",
       "           Target  \n",
       "0        0.000730  \n",
       "1        0.012324  \n",
       "2        0.006154  \n",
       "3        0.011053  \n",
       "4        0.003026  \n",
       "...           ...  \n",
       "2332526  0.034816  \n",
       "2332527  0.025478  \n",
       "2332528 -0.004302  \n",
       "2332529  0.009098  \n",
       "2332530  0.018414  \n",
       "\n",
       "[2332531 rows x 12 columns]"
      ]
     },
     "execution_count": 9,
     "metadata": {},
     "output_type": "execute_result"
    }
   ],
   "source": [
    "stock_list = pd.read_csv('../input/jpx-tokyo-stock-exchange-prediction/stock_list.csv')\n",
    "prices = pd.read_csv((p_train + 'stock_prices.csv'),\n",
    "                    parse_dates=['Date'])\n",
    "prices"
   ]
  },
  {
   "cell_type": "code",
   "execution_count": 10,
   "id": "0cbce7bd",
   "metadata": {
    "execution": {
     "iopub.execute_input": "2022-05-02T18:14:02.401059Z",
     "iopub.status.busy": "2022-05-02T18:14:02.400779Z",
     "iopub.status.idle": "2022-05-02T18:14:23.894361Z",
     "shell.execute_reply": "2022-05-02T18:14:23.893234Z"
    },
    "papermill": {
     "duration": 21.526749,
     "end_time": "2022-05-02T18:14:23.896559",
     "exception": false,
     "start_time": "2022-05-02T18:14:02.369810",
     "status": "completed"
    },
    "tags": []
   },
   "outputs": [
    {
     "name": "stderr",
     "output_type": "stream",
     "text": [
      "/opt/conda/lib/python3.7/site-packages/pandas/core/arraylike.py:364: RuntimeWarning: divide by zero encountered in log\n",
      "  result = getattr(ufunc, method)(*inputs, **kwargs)\n",
      "/opt/conda/lib/python3.7/site-packages/pandas/core/arraylike.py:364: RuntimeWarning: invalid value encountered in sqrt\n",
      "  result = getattr(ufunc, method)(*inputs, **kwargs)\n"
     ]
    },
    {
     "data": {
      "text/html": [
       "<div>\n",
       "<style scoped>\n",
       "    .dataframe tbody tr th:only-of-type {\n",
       "        vertical-align: middle;\n",
       "    }\n",
       "\n",
       "    .dataframe tbody tr th {\n",
       "        vertical-align: top;\n",
       "    }\n",
       "\n",
       "    .dataframe thead th {\n",
       "        text-align: right;\n",
       "    }\n",
       "</style>\n",
       "<table border=\"1\" class=\"dataframe\">\n",
       "  <thead>\n",
       "    <tr style=\"text-align: right;\">\n",
       "      <th></th>\n",
       "      <th>SecuritiesCode</th>\n",
       "      <th>Open</th>\n",
       "      <th>High</th>\n",
       "      <th>Low</th>\n",
       "      <th>Close</th>\n",
       "      <th>Volume</th>\n",
       "      <th>CloseMinusOpen</th>\n",
       "      <th>CloseDivOpen</th>\n",
       "      <th>HighMinusLow</th>\n",
       "      <th>HighDivLow</th>\n",
       "      <th>...</th>\n",
       "      <th>Lower_Shadow</th>\n",
       "      <th>Avg_Price</th>\n",
       "      <th>Avg_Price_HL</th>\n",
       "      <th>Side</th>\n",
       "      <th>ret_H</th>\n",
       "      <th>ret_L</th>\n",
       "      <th>ret</th>\n",
       "      <th>log_Dollars</th>\n",
       "      <th>GK_sqrt_vol</th>\n",
       "      <th>RS_sqrt_vol</th>\n",
       "    </tr>\n",
       "    <tr>\n",
       "      <th>Date</th>\n",
       "      <th></th>\n",
       "      <th></th>\n",
       "      <th></th>\n",
       "      <th></th>\n",
       "      <th></th>\n",
       "      <th></th>\n",
       "      <th></th>\n",
       "      <th></th>\n",
       "      <th></th>\n",
       "      <th></th>\n",
       "      <th></th>\n",
       "      <th></th>\n",
       "      <th></th>\n",
       "      <th></th>\n",
       "      <th></th>\n",
       "      <th></th>\n",
       "      <th></th>\n",
       "      <th></th>\n",
       "      <th></th>\n",
       "      <th></th>\n",
       "      <th></th>\n",
       "    </tr>\n",
       "  </thead>\n",
       "  <tbody>\n",
       "    <tr>\n",
       "      <th>2017-01-04</th>\n",
       "      <td>0.0</td>\n",
       "      <td>2734.0</td>\n",
       "      <td>2755.0</td>\n",
       "      <td>2730.0</td>\n",
       "      <td>2742.0</td>\n",
       "      <td>31400</td>\n",
       "      <td>8.0</td>\n",
       "      <td>1.002926</td>\n",
       "      <td>25.0</td>\n",
       "      <td>1.009158</td>\n",
       "      <td>...</td>\n",
       "      <td>4.0</td>\n",
       "      <td>2738.0</td>\n",
       "      <td>2742.5</td>\n",
       "      <td>-0.360000</td>\n",
       "      <td>0.007681</td>\n",
       "      <td>-0.001463</td>\n",
       "      <td>0.002926</td>\n",
       "      <td>18.269546</td>\n",
       "      <td>0.006185</td>\n",
       "      <td>0.006528</td>\n",
       "    </tr>\n",
       "    <tr>\n",
       "      <th>2017-01-05</th>\n",
       "      <td>0.0</td>\n",
       "      <td>2743.0</td>\n",
       "      <td>2747.0</td>\n",
       "      <td>2735.0</td>\n",
       "      <td>2738.0</td>\n",
       "      <td>17900</td>\n",
       "      <td>-5.0</td>\n",
       "      <td>0.998177</td>\n",
       "      <td>12.0</td>\n",
       "      <td>1.004388</td>\n",
       "      <td>...</td>\n",
       "      <td>3.0</td>\n",
       "      <td>2740.5</td>\n",
       "      <td>2741.0</td>\n",
       "      <td>-0.083333</td>\n",
       "      <td>0.001458</td>\n",
       "      <td>-0.002917</td>\n",
       "      <td>-0.001823</td>\n",
       "      <td>17.708452</td>\n",
       "      <td>0.002881</td>\n",
       "      <td>0.002826</td>\n",
       "    </tr>\n",
       "    <tr>\n",
       "      <th>2017-01-06</th>\n",
       "      <td>0.0</td>\n",
       "      <td>2734.0</td>\n",
       "      <td>2744.0</td>\n",
       "      <td>2720.0</td>\n",
       "      <td>2740.0</td>\n",
       "      <td>19900</td>\n",
       "      <td>6.0</td>\n",
       "      <td>1.002195</td>\n",
       "      <td>24.0</td>\n",
       "      <td>1.008824</td>\n",
       "      <td>...</td>\n",
       "      <td>14.0</td>\n",
       "      <td>2737.0</td>\n",
       "      <td>2732.0</td>\n",
       "      <td>0.416667</td>\n",
       "      <td>0.003658</td>\n",
       "      <td>-0.005121</td>\n",
       "      <td>0.002195</td>\n",
       "      <td>17.813093</td>\n",
       "      <td>0.006061</td>\n",
       "      <td>0.006553</td>\n",
       "    </tr>\n",
       "    <tr>\n",
       "      <th>2017-01-10</th>\n",
       "      <td>0.0</td>\n",
       "      <td>2745.0</td>\n",
       "      <td>2754.0</td>\n",
       "      <td>2735.0</td>\n",
       "      <td>2748.0</td>\n",
       "      <td>24200</td>\n",
       "      <td>3.0</td>\n",
       "      <td>1.001093</td>\n",
       "      <td>19.0</td>\n",
       "      <td>1.006947</td>\n",
       "      <td>...</td>\n",
       "      <td>10.0</td>\n",
       "      <td>2746.5</td>\n",
       "      <td>2744.5</td>\n",
       "      <td>0.210526</td>\n",
       "      <td>0.003279</td>\n",
       "      <td>-0.003643</td>\n",
       "      <td>0.001093</td>\n",
       "      <td>18.012191</td>\n",
       "      <td>0.004848</td>\n",
       "      <td>0.004944</td>\n",
       "    </tr>\n",
       "    <tr>\n",
       "      <th>2017-01-11</th>\n",
       "      <td>0.0</td>\n",
       "      <td>2748.0</td>\n",
       "      <td>2752.0</td>\n",
       "      <td>2737.0</td>\n",
       "      <td>2745.0</td>\n",
       "      <td>9300</td>\n",
       "      <td>-3.0</td>\n",
       "      <td>0.998908</td>\n",
       "      <td>15.0</td>\n",
       "      <td>1.005480</td>\n",
       "      <td>...</td>\n",
       "      <td>8.0</td>\n",
       "      <td>2746.5</td>\n",
       "      <td>2744.5</td>\n",
       "      <td>0.266667</td>\n",
       "      <td>0.001456</td>\n",
       "      <td>-0.004003</td>\n",
       "      <td>-0.001092</td>\n",
       "      <td>17.055852</td>\n",
       "      <td>0.003805</td>\n",
       "      <td>0.003926</td>\n",
       "    </tr>\n",
       "    <tr>\n",
       "      <th>...</th>\n",
       "      <td>...</td>\n",
       "      <td>...</td>\n",
       "      <td>...</td>\n",
       "      <td>...</td>\n",
       "      <td>...</td>\n",
       "      <td>...</td>\n",
       "      <td>...</td>\n",
       "      <td>...</td>\n",
       "      <td>...</td>\n",
       "      <td>...</td>\n",
       "      <td>...</td>\n",
       "      <td>...</td>\n",
       "      <td>...</td>\n",
       "      <td>...</td>\n",
       "      <td>...</td>\n",
       "      <td>...</td>\n",
       "      <td>...</td>\n",
       "      <td>...</td>\n",
       "      <td>...</td>\n",
       "      <td>...</td>\n",
       "      <td>...</td>\n",
       "    </tr>\n",
       "    <tr>\n",
       "      <th>2021-11-29</th>\n",
       "      <td>1999.0</td>\n",
       "      <td>678.0</td>\n",
       "      <td>679.0</td>\n",
       "      <td>665.0</td>\n",
       "      <td>668.0</td>\n",
       "      <td>320800</td>\n",
       "      <td>-10.0</td>\n",
       "      <td>0.985251</td>\n",
       "      <td>14.0</td>\n",
       "      <td>1.021053</td>\n",
       "      <td>...</td>\n",
       "      <td>3.0</td>\n",
       "      <td>673.0</td>\n",
       "      <td>672.0</td>\n",
       "      <td>0.142857</td>\n",
       "      <td>0.001475</td>\n",
       "      <td>-0.019174</td>\n",
       "      <td>-0.014749</td>\n",
       "      <td>19.190318</td>\n",
       "      <td>0.011478</td>\n",
       "      <td>0.010546</td>\n",
       "    </tr>\n",
       "    <tr>\n",
       "      <th>2021-11-30</th>\n",
       "      <td>1999.0</td>\n",
       "      <td>670.0</td>\n",
       "      <td>689.0</td>\n",
       "      <td>667.0</td>\n",
       "      <td>667.0</td>\n",
       "      <td>296300</td>\n",
       "      <td>-3.0</td>\n",
       "      <td>0.995522</td>\n",
       "      <td>22.0</td>\n",
       "      <td>1.032984</td>\n",
       "      <td>...</td>\n",
       "      <td>0.0</td>\n",
       "      <td>668.5</td>\n",
       "      <td>678.0</td>\n",
       "      <td>-0.863636</td>\n",
       "      <td>0.028358</td>\n",
       "      <td>-0.004478</td>\n",
       "      <td>-0.004478</td>\n",
       "      <td>19.104164</td>\n",
       "      <td>0.022776</td>\n",
       "      <td>0.030124</td>\n",
       "    </tr>\n",
       "    <tr>\n",
       "      <th>2021-12-01</th>\n",
       "      <td>1999.0</td>\n",
       "      <td>661.0</td>\n",
       "      <td>688.0</td>\n",
       "      <td>660.0</td>\n",
       "      <td>685.0</td>\n",
       "      <td>339100</td>\n",
       "      <td>24.0</td>\n",
       "      <td>1.036309</td>\n",
       "      <td>28.0</td>\n",
       "      <td>1.042424</td>\n",
       "      <td>...</td>\n",
       "      <td>1.0</td>\n",
       "      <td>673.0</td>\n",
       "      <td>674.0</td>\n",
       "      <td>-0.071429</td>\n",
       "      <td>0.040847</td>\n",
       "      <td>-0.001513</td>\n",
       "      <td>0.036309</td>\n",
       "      <td>19.245796</td>\n",
       "      <td>0.019282</td>\n",
       "      <td>0.015207</td>\n",
       "    </tr>\n",
       "    <tr>\n",
       "      <th>2021-12-02</th>\n",
       "      <td>1999.0</td>\n",
       "      <td>681.0</td>\n",
       "      <td>692.0</td>\n",
       "      <td>680.0</td>\n",
       "      <td>684.0</td>\n",
       "      <td>342900</td>\n",
       "      <td>3.0</td>\n",
       "      <td>1.004405</td>\n",
       "      <td>12.0</td>\n",
       "      <td>1.017647</td>\n",
       "      <td>...</td>\n",
       "      <td>1.0</td>\n",
       "      <td>682.5</td>\n",
       "      <td>686.0</td>\n",
       "      <td>-0.583333</td>\n",
       "      <td>0.016153</td>\n",
       "      <td>-0.001468</td>\n",
       "      <td>0.004405</td>\n",
       "      <td>19.270957</td>\n",
       "      <td>0.012064</td>\n",
       "      <td>0.013962</td>\n",
       "    </tr>\n",
       "    <tr>\n",
       "      <th>2021-12-03</th>\n",
       "      <td>1999.0</td>\n",
       "      <td>690.0</td>\n",
       "      <td>711.0</td>\n",
       "      <td>686.0</td>\n",
       "      <td>696.0</td>\n",
       "      <td>381100</td>\n",
       "      <td>6.0</td>\n",
       "      <td>1.008696</td>\n",
       "      <td>25.0</td>\n",
       "      <td>1.036443</td>\n",
       "      <td>...</td>\n",
       "      <td>4.0</td>\n",
       "      <td>693.0</td>\n",
       "      <td>698.5</td>\n",
       "      <td>-0.440000</td>\n",
       "      <td>0.030435</td>\n",
       "      <td>-0.005797</td>\n",
       "      <td>0.008696</td>\n",
       "      <td>19.391847</td>\n",
       "      <td>0.024732</td>\n",
       "      <td>0.026896</td>\n",
       "    </tr>\n",
       "  </tbody>\n",
       "</table>\n",
       "<p>2332531 rows × 23 columns</p>\n",
       "</div>"
      ],
      "text/plain": [
       "            SecuritiesCode    Open    High     Low   Close  Volume  \\\n",
       "Date                                                                 \n",
       "2017-01-04             0.0  2734.0  2755.0  2730.0  2742.0   31400   \n",
       "2017-01-05             0.0  2743.0  2747.0  2735.0  2738.0   17900   \n",
       "2017-01-06             0.0  2734.0  2744.0  2720.0  2740.0   19900   \n",
       "2017-01-10             0.0  2745.0  2754.0  2735.0  2748.0   24200   \n",
       "2017-01-11             0.0  2748.0  2752.0  2737.0  2745.0    9300   \n",
       "...                    ...     ...     ...     ...     ...     ...   \n",
       "2021-11-29          1999.0   678.0   679.0   665.0   668.0  320800   \n",
       "2021-11-30          1999.0   670.0   689.0   667.0   667.0  296300   \n",
       "2021-12-01          1999.0   661.0   688.0   660.0   685.0  339100   \n",
       "2021-12-02          1999.0   681.0   692.0   680.0   684.0  342900   \n",
       "2021-12-03          1999.0   690.0   711.0   686.0   696.0  381100   \n",
       "\n",
       "            CloseMinusOpen  CloseDivOpen  HighMinusLow  HighDivLow  ...  \\\n",
       "Date                                                                ...   \n",
       "2017-01-04             8.0      1.002926          25.0    1.009158  ...   \n",
       "2017-01-05            -5.0      0.998177          12.0    1.004388  ...   \n",
       "2017-01-06             6.0      1.002195          24.0    1.008824  ...   \n",
       "2017-01-10             3.0      1.001093          19.0    1.006947  ...   \n",
       "2017-01-11            -3.0      0.998908          15.0    1.005480  ...   \n",
       "...                    ...           ...           ...         ...  ...   \n",
       "2021-11-29           -10.0      0.985251          14.0    1.021053  ...   \n",
       "2021-11-30            -3.0      0.995522          22.0    1.032984  ...   \n",
       "2021-12-01            24.0      1.036309          28.0    1.042424  ...   \n",
       "2021-12-02             3.0      1.004405          12.0    1.017647  ...   \n",
       "2021-12-03             6.0      1.008696          25.0    1.036443  ...   \n",
       "\n",
       "            Lower_Shadow  Avg_Price  Avg_Price_HL      Side     ret_H  \\\n",
       "Date                                                                    \n",
       "2017-01-04           4.0     2738.0        2742.5 -0.360000  0.007681   \n",
       "2017-01-05           3.0     2740.5        2741.0 -0.083333  0.001458   \n",
       "2017-01-06          14.0     2737.0        2732.0  0.416667  0.003658   \n",
       "2017-01-10          10.0     2746.5        2744.5  0.210526  0.003279   \n",
       "2017-01-11           8.0     2746.5        2744.5  0.266667  0.001456   \n",
       "...                  ...        ...           ...       ...       ...   \n",
       "2021-11-29           3.0      673.0         672.0  0.142857  0.001475   \n",
       "2021-11-30           0.0      668.5         678.0 -0.863636  0.028358   \n",
       "2021-12-01           1.0      673.0         674.0 -0.071429  0.040847   \n",
       "2021-12-02           1.0      682.5         686.0 -0.583333  0.016153   \n",
       "2021-12-03           4.0      693.0         698.5 -0.440000  0.030435   \n",
       "\n",
       "               ret_L       ret  log_Dollars  GK_sqrt_vol  RS_sqrt_vol  \n",
       "Date                                                                   \n",
       "2017-01-04 -0.001463  0.002926    18.269546     0.006185     0.006528  \n",
       "2017-01-05 -0.002917 -0.001823    17.708452     0.002881     0.002826  \n",
       "2017-01-06 -0.005121  0.002195    17.813093     0.006061     0.006553  \n",
       "2017-01-10 -0.003643  0.001093    18.012191     0.004848     0.004944  \n",
       "2017-01-11 -0.004003 -0.001092    17.055852     0.003805     0.003926  \n",
       "...              ...       ...          ...          ...          ...  \n",
       "2021-11-29 -0.019174 -0.014749    19.190318     0.011478     0.010546  \n",
       "2021-11-30 -0.004478 -0.004478    19.104164     0.022776     0.030124  \n",
       "2021-12-01 -0.001513  0.036309    19.245796     0.019282     0.015207  \n",
       "2021-12-02 -0.001468  0.004405    19.270957     0.012064     0.013962  \n",
       "2021-12-03 -0.005797  0.008696    19.391847     0.024732     0.026896  \n",
       "\n",
       "[2332531 rows x 23 columns]"
      ]
     },
     "execution_count": 10,
     "metadata": {},
     "output_type": "execute_result"
    }
   ],
   "source": [
    "preprocess(prices)"
   ]
  },
  {
   "cell_type": "markdown",
   "id": "697d9683",
   "metadata": {
    "papermill": {
     "duration": 0.031203,
     "end_time": "2022-05-02T18:14:23.959177",
     "exception": false,
     "start_time": "2022-05-02T18:14:23.927974",
     "status": "completed"
    },
    "tags": []
   },
   "source": [
    "### Drop na"
   ]
  },
  {
   "cell_type": "code",
   "execution_count": 11,
   "id": "6a81efef",
   "metadata": {
    "execution": {
     "iopub.execute_input": "2022-05-02T18:14:24.024756Z",
     "iopub.status.busy": "2022-05-02T18:14:24.024445Z",
     "iopub.status.idle": "2022-05-02T18:14:24.031150Z",
     "shell.execute_reply": "2022-05-02T18:14:24.030575Z"
    },
    "papermill": {
     "duration": 0.041913,
     "end_time": "2022-05-02T18:14:24.032924",
     "exception": false,
     "start_time": "2022-05-02T18:14:23.991011",
     "status": "completed"
    },
    "tags": []
   },
   "outputs": [
    {
     "data": {
      "text/plain": [
       "RowId                       object\n",
       "Date                datetime64[ns]\n",
       "SecuritiesCode               int64\n",
       "Open                       float64\n",
       "High                       float64\n",
       "Low                        float64\n",
       "Close                      float64\n",
       "Volume                       int64\n",
       "AdjustmentFactor           float64\n",
       "ExpectedDividend           float64\n",
       "SupervisionFlag               bool\n",
       "Target                     float64\n",
       "dtype: object"
      ]
     },
     "execution_count": 11,
     "metadata": {},
     "output_type": "execute_result"
    }
   ],
   "source": [
    "prices.dtypes"
   ]
  },
  {
   "cell_type": "code",
   "execution_count": 12,
   "id": "b6c8eb17",
   "metadata": {
    "execution": {
     "iopub.execute_input": "2022-05-02T18:14:24.099965Z",
     "iopub.status.busy": "2022-05-02T18:14:24.099485Z",
     "iopub.status.idle": "2022-05-02T18:14:24.403272Z",
     "shell.execute_reply": "2022-05-02T18:14:24.402720Z"
    },
    "papermill": {
     "duration": 0.340003,
     "end_time": "2022-05-02T18:14:24.405178",
     "exception": false,
     "start_time": "2022-05-02T18:14:24.065175",
     "status": "completed"
    },
    "tags": []
   },
   "outputs": [
    {
     "data": {
      "text/plain": [
       "RowId                     0\n",
       "Date                      0\n",
       "SecuritiesCode            0\n",
       "Open                   7608\n",
       "High                   7608\n",
       "Low                    7608\n",
       "Close                  7608\n",
       "Volume                    0\n",
       "AdjustmentFactor          0\n",
       "ExpectedDividend    2313666\n",
       "SupervisionFlag           0\n",
       "Target                  238\n",
       "dtype: int64"
      ]
     },
     "execution_count": 12,
     "metadata": {},
     "output_type": "execute_result"
    }
   ],
   "source": [
    "prices.isnull().sum()"
   ]
  },
  {
   "cell_type": "code",
   "execution_count": 13,
   "id": "6a61b0ef",
   "metadata": {
    "execution": {
     "iopub.execute_input": "2022-05-02T18:14:24.470529Z",
     "iopub.status.busy": "2022-05-02T18:14:24.470244Z",
     "iopub.status.idle": "2022-05-02T18:14:26.795602Z",
     "shell.execute_reply": "2022-05-02T18:14:26.794252Z"
    },
    "papermill": {
     "duration": 2.361233,
     "end_time": "2022-05-02T18:14:26.798684",
     "exception": false,
     "start_time": "2022-05-02T18:14:24.437451",
     "status": "completed"
    },
    "tags": []
   },
   "outputs": [
    {
     "data": {
      "image/png": "[encoded data removed]",
      "text/plain": [
       "<Figure size 432x720 with 1 Axes>"
      ]
     },
     "metadata": {
      "needs_background": "light"
     },
     "output_type": "display_data"
    }
   ],
   "source": [
    "prices['Target'].plot(kind='hist', bins=800,range=[-0.4,0.4], figsize=(6, 10));\n",
    "plt.title(\"Target distribution\", weight='bold', fontsize=16);"
   ]
  },
  {
   "cell_type": "code",
   "execution_count": 14,
   "id": "11011532",
   "metadata": {
    "execution": {
     "iopub.execute_input": "2022-05-02T18:14:26.875074Z",
     "iopub.status.busy": "2022-05-02T18:14:26.874758Z",
     "iopub.status.idle": "2022-05-02T18:14:49.261203Z",
     "shell.execute_reply": "2022-05-02T18:14:49.260261Z"
    },
    "papermill": {
     "duration": 22.42864,
     "end_time": "2022-05-02T18:14:49.264418",
     "exception": false,
     "start_time": "2022-05-02T18:14:26.835778",
     "status": "completed"
    },
    "tags": []
   },
   "outputs": [
    {
     "name": "stderr",
     "output_type": "stream",
     "text": [
      "/opt/conda/lib/python3.7/site-packages/pandas/core/arraylike.py:364: RuntimeWarning: divide by zero encountered in log\n",
      "  result = getattr(ufunc, method)(*inputs, **kwargs)\n",
      "/opt/conda/lib/python3.7/site-packages/pandas/core/arraylike.py:364: RuntimeWarning: invalid value encountered in sqrt\n",
      "  result = getattr(ufunc, method)(*inputs, **kwargs)\n"
     ]
    }
   ],
   "source": [
    "from sklearn.model_selection import train_test_split\n",
    "\n",
    "split_size = 0.05\n",
    "\n",
    "X = preprocess(prices)\n",
    "y = prices[['Target']]\n",
    "\n",
    "X_train, X_val, y_train, y_val = train_test_split(X, y, shuffle=False, test_size=split_size)"
   ]
  },
  {
   "cell_type": "markdown",
   "id": "6bb42d63",
   "metadata": {
    "papermill": {
     "duration": 0.032554,
     "end_time": "2022-05-02T18:14:49.331607",
     "exception": false,
     "start_time": "2022-05-02T18:14:49.299053",
     "status": "completed"
    },
    "tags": []
   },
   "source": [
    "## Model"
   ]
  },
  {
   "cell_type": "markdown",
   "id": "5ac81a6b",
   "metadata": {
    "papermill": {
     "duration": 0.033602,
     "end_time": "2022-05-02T18:14:49.397858",
     "exception": false,
     "start_time": "2022-05-02T18:14:49.364256",
     "status": "completed"
    },
    "tags": []
   },
   "source": [
    "### LGBM"
   ]
  },
  {
   "cell_type": "code",
   "execution_count": 15,
   "id": "b1fedb83",
   "metadata": {
    "execution": {
     "iopub.execute_input": "2022-05-02T18:14:49.466314Z",
     "iopub.status.busy": "2022-05-02T18:14:49.466005Z",
     "iopub.status.idle": "2022-05-02T18:14:49.469896Z",
     "shell.execute_reply": "2022-05-02T18:14:49.469285Z"
    },
    "papermill": {
     "duration": 0.040602,
     "end_time": "2022-05-02T18:14:49.471739",
     "exception": false,
     "start_time": "2022-05-02T18:14:49.431137",
     "status": "completed"
    },
    "tags": []
   },
   "outputs": [],
   "source": [
    "# from lightgbm import LGBMRegressor\n",
    "# from sklearn.metrics import mean_squared_error\n",
    "\n",
    "# model = LGBMRegressor()\n",
    "# model.fit(X_train, y_train)\n",
    "# val_preds = model.predict(X_val)\n",
    "# val_score = np.sqrt(mean_squared_error(y_val, val_preds))\n",
    "# print(val_score)"
   ]
  },
  {
   "cell_type": "code",
   "execution_count": 16,
   "id": "824f6a79",
   "metadata": {
    "execution": {
     "iopub.execute_input": "2022-05-02T18:14:49.539475Z",
     "iopub.status.busy": "2022-05-02T18:14:49.538986Z",
     "iopub.status.idle": "2022-05-02T18:14:51.606428Z",
     "shell.execute_reply": "2022-05-02T18:14:51.605478Z"
    },
    "papermill": {
     "duration": 2.104234,
     "end_time": "2022-05-02T18:14:51.608984",
     "exception": false,
     "start_time": "2022-05-02T18:14:49.504750",
     "status": "completed"
    },
    "tags": []
   },
   "outputs": [
    {
     "data": {
      "text/html": [
       "<style type='text/css'>\n",
       ".datatable table.frame { margin-bottom: 0; }\n",
       ".datatable table.frame thead { border-bottom: none; }\n",
       ".datatable table.frame tr.coltypes td {  color: #FFFFFF;  line-height: 6px;  padding: 0 0.5em;}\n",
       ".datatable .bool    { background: #DDDD99; }\n",
       ".datatable .object  { background: #565656; }\n",
       ".datatable .int     { background: #5D9E5D; }\n",
       ".datatable .float   { background: #4040CC; }\n",
       ".datatable .str     { background: #CC4040; }\n",
       ".datatable .time    { background: #40CC40; }\n",
       ".datatable .row_index {  background: var(--jp-border-color3);  border-right: 1px solid var(--jp-border-color0);  color: var(--jp-ui-font-color3);  font-size: 9px;}\n",
       ".datatable .frame tbody td { text-align: left; }\n",
       ".datatable .frame tr.coltypes .row_index {  background: var(--jp-border-color0);}\n",
       ".datatable th:nth-child(2) { padding-left: 12px; }\n",
       ".datatable .hellipsis {  color: var(--jp-cell-editor-border-color);}\n",
       ".datatable .vellipsis {  background: var(--jp-layout-color0);  color: var(--jp-cell-editor-border-color);}\n",
       ".datatable .na {  color: var(--jp-cell-editor-border-color);  font-size: 80%;}\n",
       ".datatable .sp {  opacity: 0.25;}\n",
       ".datatable .footer { font-size: 9px; }\n",
       ".datatable .frame_dimensions {  background: var(--jp-border-color3);  border-top: 1px solid var(--jp-border-color0);  color: var(--jp-ui-font-color3);  display: inline-block;  opacity: 0.6;  padding: 1px 10px 1px 5px;}\n",
       "</style>\n"
      ],
      "text/plain": [
       "<IPython.core.display.HTML object>"
      ]
     },
     "metadata": {},
     "output_type": "display_data"
    }
   ],
   "source": [
    "import optuna\n",
    "from sklearn.metrics import mean_squared_error\n",
    "from lightgbm import LGBMRegressor\n",
    "\n",
    "seed = 2\n",
    "n_trials = 15\n",
    "\n",
    "def optimize_LGBM():\n",
    "    def objectives(trial):\n",
    "        params = {\n",
    "                'num_leaves': trial.suggest_int('num_leaves', 300, 4000),\n",
    "                'n_estimators': trial.suggest_int('n_estimators', 10, 1000),\n",
    "                'max_bin': trial.suggest_int('max_bin', 2, 2000),\n",
    "                'learning_rate': trial.suggest_uniform('learning_rate',0, 1),\n",
    "                'lambda_l1': trial.suggest_float('lambda_l1', 1e-8, 10.0, log=True),\n",
    "                'lambda_l2': trial.suggest_float('lambda_l2', 1e-8, 10.0, log=True),\n",
    "                'feature_fraction': trial.suggest_float('feature_fraction', 0.4, 1.0),\n",
    "                'bagging_fraction': trial.suggest_float('bagging_fraction', 0.4, 1.0),\n",
    "                'bagging_freq': trial.suggest_int('bagging_freq', 1, 7),\n",
    "                'min_child_samples': trial.suggest_int('min_child_samples', 5, 100),\n",
    "        }\n",
    "\n",
    "        model = LGBMRegressor(**params)\n",
    "        model.fit(X_train,y_train)\n",
    "        val_preds = model.predict(X_val)\n",
    "        score = np.sqrt(mean_squared_error(y_val, val_preds))\n",
    "    #     score = model.score(X_val,y_val)\n",
    "        return score\n",
    "\n",
    "    opt = optuna.create_study(direction='minimize',sampler=optuna.samplers.RandomSampler(seed=seed))\n",
    "    opt.optimize(objectives, n_trials=n_trials)\n",
    "\n",
    "    trial = opt.best_trial\n",
    "    params_best = dict(trial.params.items())\n",
    "    params_best['random_seed'] = seed\n",
    "    model = LGBMRegressor(**params_best)\n",
    "    return model"
   ]
  },
  {
   "cell_type": "markdown",
   "id": "78d32459",
   "metadata": {
    "papermill": {
     "duration": 0.035193,
     "end_time": "2022-05-02T18:14:51.678586",
     "exception": false,
     "start_time": "2022-05-02T18:14:51.643393",
     "status": "completed"
    },
    "tags": []
   },
   "source": [
    "Trial 0 finished with value: 0.02296859284303052 and parameters: {'num_leaves': 3351, 'n_estimators': 189, 'max_bin': 1755, 'learning_rate': 0.4995513073466392, 'lambda_l1': 4.834347879418099, 'lambda_l2': 1.0762419629346587e-08, 'feature_fraction': 0.9541866079830311, 'bagging_fraction': 0.7776663479407265, 'bagging_freq': 3, 'min_child_samples': 37}. Best is trial 0 with value: 0.02296859284303052."
   ]
  },
  {
   "cell_type": "code",
   "execution_count": 17,
   "id": "b04f8f2d",
   "metadata": {
    "execution": {
     "iopub.execute_input": "2022-05-02T18:14:51.749536Z",
     "iopub.status.busy": "2022-05-02T18:14:51.749079Z",
     "iopub.status.idle": "2022-05-02T19:09:23.425373Z",
     "shell.execute_reply": "2022-05-02T19:09:23.424438Z"
    },
    "papermill": {
     "duration": 3271.714151,
     "end_time": "2022-05-02T19:09:23.428102",
     "exception": false,
     "start_time": "2022-05-02T18:14:51.713951",
     "status": "completed"
    },
    "tags": []
   },
   "outputs": [
    {
     "name": "stderr",
     "output_type": "stream",
     "text": [
      "\u001b[32m[I 2022-05-02 18:14:51,752]\u001b[0m A new study created in memory with name: no-name-ffff9fc9-2c94-436d-959c-a17944d6fa1b\u001b[0m\n"
     ]
    },
    {
     "name": "stdout",
     "output_type": "stream",
     "text": [
      "[LightGBM] [Warning] lambda_l1 is set=6.071698793016848e-05, reg_alpha=0.0 will be ignored. Current value: lambda_l1=6.071698793016848e-05\n",
      "[LightGBM] [Warning] bagging_fraction is set=0.7715625798103982, subsample=1.0 will be ignored. Current value: bagging_fraction=0.7715625798103982\n",
      "[LightGBM] [Warning] lambda_l2 is set=9.397522821096242e-06, reg_lambda=0.0 will be ignored. Current value: lambda_l2=9.397522821096242e-06\n",
      "[LightGBM] [Warning] feature_fraction is set=0.5227891804227055, colsample_bytree=1.0 will be ignored. Current value: feature_fraction=0.5227891804227055\n",
      "[LightGBM] [Warning] bagging_freq is set=3, subsample_freq=0 will be ignored. Current value: bagging_freq=3\n"
     ]
    },
    {
     "name": "stderr",
     "output_type": "stream",
     "text": [
      "\u001b[32m[I 2022-05-02 18:15:13,910]\u001b[0m Trial 0 finished with value: 0.026371879492215936 and parameters: {'num_leaves': 1913, 'n_estimators': 35, 'max_bin': 1100, 'learning_rate': 0.4353223926182769, 'lambda_l1': 6.071698793016848e-05, 'lambda_l2': 9.397522821096242e-06, 'feature_fraction': 0.5227891804227055, 'bagging_fraction': 0.7715625798103982, 'bagging_freq': 3, 'min_child_samples': 30}. Best is trial 0 with value: 0.026371879492215936.\u001b[0m\n"
     ]
    },
    {
     "name": "stdout",
     "output_type": "stream",
     "text": [
      "[LightGBM] [Warning] lambda_l1 is set=4.570448196536859e-07, reg_alpha=0.0 will be ignored. Current value: lambda_l1=4.570448196536859e-07\n",
      "[LightGBM] [Warning] bagging_fraction is set=0.6965421024291567, subsample=1.0 will be ignored. Current value: bagging_fraction=0.6965421024291567\n",
      "[LightGBM] [Warning] lambda_l2 is set=0.11695433673868773, reg_lambda=0.0 will be ignored. Current value: lambda_l2=0.11695433673868773\n",
      "[LightGBM] [Warning] feature_fraction is set=0.9123851755836933, colsample_bytree=1.0 will be ignored. Current value: feature_fraction=0.9123851755836933\n",
      "[LightGBM] [Warning] bagging_freq is set=6, subsample_freq=0 will be ignored. Current value: bagging_freq=6\n"
     ]
    },
    {
     "name": "stderr",
     "output_type": "stream",
     "text": [
      "\u001b[32m[I 2022-05-02 18:18:49,866]\u001b[0m Trial 1 finished with value: 0.030077234284358267 and parameters: {'num_leaves': 2598, 'n_estimators': 534, 'max_bin': 271, 'learning_rate': 0.5135781212657464, 'lambda_l1': 4.570448196536859e-07, 'lambda_l2': 0.11695433673868773, 'feature_fraction': 0.9123851755836933, 'bagging_fraction': 0.6965421024291567, 'bagging_freq': 6, 'min_child_samples': 12}. Best is trial 0 with value: 0.026371879492215936.\u001b[0m\n"
     ]
    },
    {
     "name": "stdout",
     "output_type": "stream",
     "text": [
      "[LightGBM] [Warning] lambda_l1 is set=1.3945681596725894e-07, reg_alpha=0.0 will be ignored. Current value: lambda_l1=1.3945681596725894e-07\n",
      "[LightGBM] [Warning] bagging_fraction is set=0.4641674105859898, subsample=1.0 will be ignored. Current value: bagging_fraction=0.4641674105859898\n",
      "[LightGBM] [Warning] lambda_l2 is set=0.002348052379716787, reg_lambda=0.0 will be ignored. Current value: lambda_l2=0.002348052379716787\n",
      "[LightGBM] [Warning] feature_fraction is set=0.5356072003625415, colsample_bytree=1.0 will be ignored. Current value: feature_fraction=0.5356072003625415\n",
      "[LightGBM] [Warning] bagging_freq is set=2, subsample_freq=0 will be ignored. Current value: bagging_freq=2\n"
     ]
    },
    {
     "name": "stderr",
     "output_type": "stream",
     "text": [
      "\u001b[32m[I 2022-05-02 18:19:33,513]\u001b[0m Trial 2 finished with value: 0.027839743189513946 and parameters: {'num_leaves': 2169, 'n_estimators': 74, 'max_bin': 857, 'learning_rate': 0.09653091566061256, 'lambda_l1': 1.3945681596725894e-07, 'lambda_l2': 0.002348052379716787, 'feature_fraction': 0.5356072003625415, 'bagging_fraction': 0.4641674105859898, 'bagging_freq': 2, 'min_child_samples': 38}. Best is trial 0 with value: 0.026371879492215936.\u001b[0m\n"
     ]
    },
    {
     "name": "stdout",
     "output_type": "stream",
     "text": [
      "[LightGBM] [Warning] lambda_l1 is set=0.0003524767538465575, reg_alpha=0.0 will be ignored. Current value: lambda_l1=0.0003524767538465575\n",
      "[LightGBM] [Warning] bagging_fraction is set=0.748002507326684, subsample=1.0 will be ignored. Current value: bagging_fraction=0.748002507326684\n",
      "[LightGBM] [Warning] lambda_l2 is set=3.0341277328216953e-05, reg_lambda=0.0 will be ignored. Current value: lambda_l2=3.0341277328216953e-05\n",
      "[LightGBM] [Warning] feature_fraction is set=0.8761824726649463, colsample_bytree=1.0 will be ignored. Current value: feature_fraction=0.8761824726649463\n",
      "[LightGBM] [Warning] bagging_freq is set=2, subsample_freq=0 will be ignored. Current value: bagging_freq=2\n"
     ]
    },
    {
     "name": "stderr",
     "output_type": "stream",
     "text": [
      "\u001b[32m[I 2022-05-02 18:22:11,942]\u001b[0m Trial 3 finished with value: 0.028650714027111387 and parameters: {'num_leaves': 2031, 'n_estimators': 209, 'max_bin': 1282, 'learning_rate': 0.48306983555175165, 'lambda_l1': 0.0003524767538465575, 'lambda_l2': 3.0341277328216953e-05, 'feature_fraction': 0.8761824726649463, 'bagging_fraction': 0.748002507326684, 'bagging_freq': 2, 'min_child_samples': 72}. Best is trial 0 with value: 0.026371879492215936.\u001b[0m\n"
     ]
    },
    {
     "name": "stdout",
     "output_type": "stream",
     "text": [
      "[LightGBM] [Warning] lambda_l1 is set=0.0012714437422544733, reg_alpha=0.0 will be ignored. Current value: lambda_l1=0.0012714437422544733\n",
      "[LightGBM] [Warning] bagging_fraction is set=0.8659355109982602, subsample=1.0 will be ignored. Current value: bagging_fraction=0.8659355109982602\n",
      "[LightGBM] [Warning] lambda_l2 is set=7.045530019272922e-05, reg_lambda=0.0 will be ignored. Current value: lambda_l2=7.045530019272922e-05\n",
      "[LightGBM] [Warning] feature_fraction is set=0.6620483578160794, colsample_bytree=1.0 will be ignored. Current value: feature_fraction=0.6620483578160794\n",
      "[LightGBM] [Warning] bagging_freq is set=4, subsample_freq=0 will be ignored. Current value: bagging_freq=4\n"
     ]
    },
    {
     "name": "stderr",
     "output_type": "stream",
     "text": [
      "\u001b[32m[I 2022-05-02 18:32:51,191]\u001b[0m Trial 4 finished with value: 0.028657684553246306 and parameters: {'num_leaves': 3869, 'n_estimators': 505, 'max_bin': 1780, 'learning_rate': 0.34161365267110966, 'lambda_l1': 0.0012714437422544733, 'lambda_l2': 7.045530019272922e-05, 'feature_fraction': 0.6620483578160794, 'bagging_fraction': 0.8659355109982602, 'bagging_freq': 4, 'min_child_samples': 96}. Best is trial 0 with value: 0.026371879492215936.\u001b[0m\n"
     ]
    },
    {
     "name": "stdout",
     "output_type": "stream",
     "text": [
      "[LightGBM] [Warning] lambda_l1 is set=4.533936020869357e-05, reg_alpha=0.0 will be ignored. Current value: lambda_l1=4.533936020869357e-05\n",
      "[LightGBM] [Warning] bagging_fraction is set=0.4402866224421728, subsample=1.0 will be ignored. Current value: bagging_fraction=0.4402866224421728\n",
      "[LightGBM] [Warning] lambda_l2 is set=1.7572003983807683e-08, reg_lambda=0.0 will be ignored. Current value: lambda_l2=1.7572003983807683e-08\n",
      "[LightGBM] [Warning] feature_fraction is set=0.548306343398412, colsample_bytree=1.0 will be ignored. Current value: feature_fraction=0.548306343398412\n",
      "[LightGBM] [Warning] bagging_freq is set=7, subsample_freq=0 will be ignored. Current value: bagging_freq=7\n"
     ]
    },
    {
     "name": "stderr",
     "output_type": "stream",
     "text": [
      "\u001b[32m[I 2022-05-02 18:33:53,640]\u001b[0m Trial 5 finished with value: 0.03174431441988871 and parameters: {'num_leaves': 2314, 'n_estimators': 91, 'max_bin': 734, 'learning_rate': 0.8508505040045017, 'lambda_l1': 4.533936020869357e-05, 'lambda_l2': 1.7572003983807683e-08, 'feature_fraction': 0.548306343398412, 'bagging_fraction': 0.4402866224421728, 'bagging_freq': 7, 'min_child_samples': 98}. Best is trial 0 with value: 0.026371879492215936.\u001b[0m\n"
     ]
    },
    {
     "name": "stdout",
     "output_type": "stream",
     "text": [
      "[LightGBM] [Warning] lambda_l1 is set=4.337196377534961e-06, reg_alpha=0.0 will be ignored. Current value: lambda_l1=4.337196377534961e-06\n",
      "[LightGBM] [Warning] bagging_fraction is set=0.42740737914724003, subsample=1.0 will be ignored. Current value: bagging_fraction=0.42740737914724003\n",
      "[LightGBM] [Warning] lambda_l2 is set=0.0005207171453869735, reg_lambda=0.0 will be ignored. Current value: lambda_l2=0.0005207171453869735\n",
      "[LightGBM] [Warning] feature_fraction is set=0.6139745686736553, colsample_bytree=1.0 will be ignored. Current value: feature_fraction=0.6139745686736553\n",
      "[LightGBM] [Warning] bagging_freq is set=7, subsample_freq=0 will be ignored. Current value: bagging_freq=7\n"
     ]
    },
    {
     "name": "stderr",
     "output_type": "stream",
     "text": [
      "\u001b[32m[I 2022-05-02 18:43:45,081]\u001b[0m Trial 6 finished with value: 0.028719634510476155 and parameters: {'num_leaves': 3261, 'n_estimators': 606, 'max_bin': 1531, 'learning_rate': 0.16922544658417793, 'lambda_l1': 4.337196377534961e-06, 'lambda_l2': 0.0005207171453869735, 'feature_fraction': 0.6139745686736553, 'bagging_fraction': 0.42740737914724003, 'bagging_freq': 7, 'min_child_samples': 47}. Best is trial 0 with value: 0.026371879492215936.\u001b[0m\n"
     ]
    },
    {
     "name": "stdout",
     "output_type": "stream",
     "text": [
      "[LightGBM] [Warning] lambda_l1 is set=0.30771743005538255, reg_alpha=0.0 will be ignored. Current value: lambda_l1=0.30771743005538255\n",
      "[LightGBM] [Warning] bagging_fraction is set=0.4078104020167304, subsample=1.0 will be ignored. Current value: bagging_fraction=0.4078104020167304\n",
      "[LightGBM] [Warning] lambda_l2 is set=0.04272907650355599, reg_lambda=0.0 will be ignored. Current value: lambda_l2=0.04272907650355599\n",
      "[LightGBM] [Warning] feature_fraction is set=0.6275263401649824, colsample_bytree=1.0 will be ignored. Current value: feature_fraction=0.6275263401649824\n",
      "[LightGBM] [Warning] bagging_freq is set=6, subsample_freq=0 will be ignored. Current value: bagging_freq=6\n"
     ]
    },
    {
     "name": "stderr",
     "output_type": "stream",
     "text": [
      "\u001b[32m[I 2022-05-02 18:46:54,736]\u001b[0m Trial 7 finished with value: 0.02736677398738418 and parameters: {'num_leaves': 2165, 'n_estimators': 330, 'max_bin': 521, 'learning_rate': 0.3868898853207624, 'lambda_l1': 0.30771743005538255, 'lambda_l2': 0.04272907650355599, 'feature_fraction': 0.6275263401649824, 'bagging_fraction': 0.4078104020167304, 'bagging_freq': 6, 'min_child_samples': 30}. Best is trial 0 with value: 0.026371879492215936.\u001b[0m\n"
     ]
    },
    {
     "name": "stdout",
     "output_type": "stream",
     "text": [
      "[LightGBM] [Warning] lambda_l1 is set=0.00029762142285500966, reg_alpha=0.0 will be ignored. Current value: lambda_l1=0.00029762142285500966\n",
      "[LightGBM] [Warning] bagging_fraction is set=0.7305867431946516, subsample=1.0 will be ignored. Current value: bagging_fraction=0.7305867431946516\n",
      "[LightGBM] [Warning] lambda_l2 is set=5.421912897125716e-05, reg_lambda=0.0 will be ignored. Current value: lambda_l2=5.421912897125716e-05\n",
      "[LightGBM] [Warning] feature_fraction is set=0.6105231407809844, colsample_bytree=1.0 will be ignored. Current value: feature_fraction=0.6105231407809844\n",
      "[LightGBM] [Warning] bagging_freq is set=7, subsample_freq=0 will be ignored. Current value: bagging_freq=7\n"
     ]
    },
    {
     "name": "stderr",
     "output_type": "stream",
     "text": [
      "\u001b[32m[I 2022-05-02 18:47:21,971]\u001b[0m Trial 8 finished with value: 0.02755162396617752 and parameters: {'num_leaves': 2456, 'n_estimators': 35, 'max_bin': 1325, 'learning_rate': 0.3875234258732815, 'lambda_l1': 0.00029762142285500966, 'lambda_l2': 5.421912897125716e-05, 'feature_fraction': 0.6105231407809844, 'bagging_fraction': 0.7305867431946516, 'bagging_freq': 7, 'min_child_samples': 15}. Best is trial 0 with value: 0.026371879492215936.\u001b[0m\n"
     ]
    },
    {
     "name": "stdout",
     "output_type": "stream",
     "text": [
      "[LightGBM] [Warning] lambda_l1 is set=8.545189882229951e-07, reg_alpha=0.0 will be ignored. Current value: lambda_l1=8.545189882229951e-07\n",
      "[LightGBM] [Warning] bagging_fraction is set=0.7968887960292648, subsample=1.0 will be ignored. Current value: bagging_fraction=0.7968887960292648\n",
      "[LightGBM] [Warning] lambda_l2 is set=5.633534544872684e-05, reg_lambda=0.0 will be ignored. Current value: lambda_l2=5.633534544872684e-05\n",
      "[LightGBM] [Warning] feature_fraction is set=0.7863051604889171, colsample_bytree=1.0 will be ignored. Current value: feature_fraction=0.7863051604889171\n",
      "[LightGBM] [Warning] bagging_freq is set=2, subsample_freq=0 will be ignored. Current value: bagging_freq=2\n"
     ]
    },
    {
     "name": "stderr",
     "output_type": "stream",
     "text": [
      "\u001b[32m[I 2022-05-02 18:47:57,184]\u001b[0m Trial 9 finished with value: 0.028847467028975702 and parameters: {'num_leaves': 1459, 'n_estimators': 51, 'max_bin': 1478, 'learning_rate': 0.657512387659044, 'lambda_l1': 8.545189882229951e-07, 'lambda_l2': 5.633534544872684e-05, 'feature_fraction': 0.7863051604889171, 'bagging_fraction': 0.7968887960292648, 'bagging_freq': 2, 'min_child_samples': 89}. Best is trial 0 with value: 0.026371879492215936.\u001b[0m\n"
     ]
    },
    {
     "name": "stdout",
     "output_type": "stream",
     "text": [
      "[LightGBM] [Warning] lambda_l1 is set=0.1539114348334168, reg_alpha=0.0 will be ignored. Current value: lambda_l1=0.1539114348334168\n",
      "[LightGBM] [Warning] bagging_fraction is set=0.9510751879537603, subsample=1.0 will be ignored. Current value: bagging_fraction=0.9510751879537603\n",
      "[LightGBM] [Warning] lambda_l2 is set=0.0007764385238617657, reg_lambda=0.0 will be ignored. Current value: lambda_l2=0.0007764385238617657\n",
      "[LightGBM] [Warning] feature_fraction is set=0.5325027490368771, colsample_bytree=1.0 will be ignored. Current value: feature_fraction=0.5325027490368771\n",
      "[LightGBM] [Warning] bagging_freq is set=5, subsample_freq=0 will be ignored. Current value: bagging_freq=5\n"
     ]
    },
    {
     "name": "stderr",
     "output_type": "stream",
     "text": [
      "\u001b[32m[I 2022-05-02 18:50:15,007]\u001b[0m Trial 10 finished with value: 0.02828817403795561 and parameters: {'num_leaves': 3179, 'n_estimators': 142, 'max_bin': 1738, 'learning_rate': 0.7487778782768545, 'lambda_l1': 0.1539114348334168, 'lambda_l2': 0.0007764385238617657, 'feature_fraction': 0.5325027490368771, 'bagging_fraction': 0.9510751879537603, 'bagging_freq': 5, 'min_child_samples': 38}. Best is trial 0 with value: 0.026371879492215936.\u001b[0m\n"
     ]
    },
    {
     "name": "stdout",
     "output_type": "stream",
     "text": [
      "[LightGBM] [Warning] lambda_l1 is set=0.0029921228466123864, reg_alpha=0.0 will be ignored. Current value: lambda_l1=0.0029921228466123864\n",
      "[LightGBM] [Warning] bagging_fraction is set=0.5060272969506556, subsample=1.0 will be ignored. Current value: bagging_fraction=0.5060272969506556\n",
      "[LightGBM] [Warning] lambda_l2 is set=0.2730539452744423, reg_lambda=0.0 will be ignored. Current value: lambda_l2=0.2730539452744423\n",
      "[LightGBM] [Warning] feature_fraction is set=0.7741379107372786, colsample_bytree=1.0 will be ignored. Current value: feature_fraction=0.7741379107372786\n",
      "[LightGBM] [Warning] bagging_freq is set=5, subsample_freq=0 will be ignored. Current value: bagging_freq=5\n"
     ]
    },
    {
     "name": "stderr",
     "output_type": "stream",
     "text": [
      "\u001b[32m[I 2022-05-02 18:56:35,945]\u001b[0m Trial 11 finished with value: 0.033994760052680865 and parameters: {'num_leaves': 1276, 'n_estimators': 915, 'max_bin': 841, 'learning_rate': 0.5401915156671309, 'lambda_l1': 0.0029921228466123864, 'lambda_l2': 0.2730539452744423, 'feature_fraction': 0.7741379107372786, 'bagging_fraction': 0.5060272969506556, 'bagging_freq': 5, 'min_child_samples': 51}. Best is trial 0 with value: 0.026371879492215936.\u001b[0m\n"
     ]
    },
    {
     "name": "stdout",
     "output_type": "stream",
     "text": [
      "[LightGBM] [Warning] lambda_l1 is set=9.89118512276133e-08, reg_alpha=0.0 will be ignored. Current value: lambda_l1=9.89118512276133e-08\n",
      "[LightGBM] [Warning] bagging_fraction is set=0.7776158336977493, subsample=1.0 will be ignored. Current value: bagging_fraction=0.7776158336977493\n",
      "[LightGBM] [Warning] lambda_l2 is set=2.9277451676099353e-06, reg_lambda=0.0 will be ignored. Current value: lambda_l2=2.9277451676099353e-06\n",
      "[LightGBM] [Warning] feature_fraction is set=0.40615002363975455, colsample_bytree=1.0 will be ignored. Current value: feature_fraction=0.40615002363975455\n",
      "[LightGBM] [Warning] bagging_freq is set=3, subsample_freq=0 will be ignored. Current value: bagging_freq=3\n"
     ]
    },
    {
     "name": "stderr",
     "output_type": "stream",
     "text": [
      "\u001b[32m[I 2022-05-02 19:00:47,566]\u001b[0m Trial 12 finished with value: 0.025629127150645477 and parameters: {'num_leaves': 2327, 'n_estimators': 703, 'max_bin': 493, 'learning_rate': 0.1866271455864802, 'lambda_l1': 9.89118512276133e-08, 'lambda_l2': 2.9277451676099353e-06, 'feature_fraction': 0.40615002363975455, 'bagging_fraction': 0.7776158336977493, 'bagging_freq': 3, 'min_child_samples': 22}. Best is trial 12 with value: 0.025629127150645477.\u001b[0m\n"
     ]
    },
    {
     "name": "stdout",
     "output_type": "stream",
     "text": [
      "[LightGBM] [Warning] lambda_l1 is set=0.00017485929265082352, reg_alpha=0.0 will be ignored. Current value: lambda_l1=0.00017485929265082352\n",
      "[LightGBM] [Warning] bagging_fraction is set=0.9931058204704986, subsample=1.0 will be ignored. Current value: bagging_fraction=0.9931058204704986\n",
      "[LightGBM] [Warning] lambda_l2 is set=0.000882005695954262, reg_lambda=0.0 will be ignored. Current value: lambda_l2=0.000882005695954262\n",
      "[LightGBM] [Warning] feature_fraction is set=0.907067869344821, colsample_bytree=1.0 will be ignored. Current value: feature_fraction=0.907067869344821\n",
      "[LightGBM] [Warning] bagging_freq is set=1, subsample_freq=0 will be ignored. Current value: bagging_freq=1\n"
     ]
    },
    {
     "name": "stderr",
     "output_type": "stream",
     "text": [
      "\u001b[32m[I 2022-05-02 19:01:41,062]\u001b[0m Trial 13 finished with value: 0.027673651933821167 and parameters: {'num_leaves': 652, 'n_estimators': 291, 'max_bin': 431, 'learning_rate': 0.2856037339109023, 'lambda_l1': 0.00017485929265082352, 'lambda_l2': 0.000882005695954262, 'feature_fraction': 0.907067869344821, 'bagging_fraction': 0.9931058204704986, 'bagging_freq': 1, 'min_child_samples': 27}. Best is trial 12 with value: 0.025629127150645477.\u001b[0m\n"
     ]
    },
    {
     "name": "stdout",
     "output_type": "stream",
     "text": [
      "[LightGBM] [Warning] lambda_l1 is set=0.04740185636278597, reg_alpha=0.0 will be ignored. Current value: lambda_l1=0.04740185636278597\n",
      "[LightGBM] [Warning] bagging_fraction is set=0.41874853735915696, subsample=1.0 will be ignored. Current value: bagging_fraction=0.41874853735915696\n",
      "[LightGBM] [Warning] lambda_l2 is set=0.007536758841231097, reg_lambda=0.0 will be ignored. Current value: lambda_l2=0.007536758841231097\n",
      "[LightGBM] [Warning] feature_fraction is set=0.8793313069027777, colsample_bytree=1.0 will be ignored. Current value: feature_fraction=0.8793313069027777\n",
      "[LightGBM] [Warning] bagging_freq is set=2, subsample_freq=0 will be ignored. Current value: bagging_freq=2\n"
     ]
    },
    {
     "name": "stderr",
     "output_type": "stream",
     "text": [
      "\u001b[32m[I 2022-05-02 19:05:10,138]\u001b[0m Trial 14 finished with value: 0.027900570627806032 and parameters: {'num_leaves': 2680, 'n_estimators': 170, 'max_bin': 1741, 'learning_rate': 0.21740242630502593, 'lambda_l1': 0.04740185636278597, 'lambda_l2': 0.007536758841231097, 'feature_fraction': 0.8793313069027777, 'bagging_fraction': 0.41874853735915696, 'bagging_freq': 2, 'min_child_samples': 72}. Best is trial 12 with value: 0.025629127150645477.\u001b[0m\n"
     ]
    },
    {
     "name": "stdout",
     "output_type": "stream",
     "text": [
      "[LightGBM] [Warning] lambda_l1 is set=9.89118512276133e-08, reg_alpha=0.0 will be ignored. Current value: lambda_l1=9.89118512276133e-08\n",
      "[LightGBM] [Warning] bagging_fraction is set=0.7776158336977493, subsample=1.0 will be ignored. Current value: bagging_fraction=0.7776158336977493\n",
      "[LightGBM] [Warning] lambda_l2 is set=2.9277451676099353e-06, reg_lambda=0.0 will be ignored. Current value: lambda_l2=2.9277451676099353e-06\n",
      "[LightGBM] [Warning] feature_fraction is set=0.40615002363975455, colsample_bytree=1.0 will be ignored. Current value: feature_fraction=0.40615002363975455\n",
      "[LightGBM] [Warning] bagging_freq is set=3, subsample_freq=0 will be ignored. Current value: bagging_freq=3\n",
      "0.011363117489478713\n"
     ]
    },
    {
     "data": {
      "image/png": "[encoded data removed]",
      "text/plain": [
       "<Figure size 576x432 with 1 Axes>"
      ]
     },
     "metadata": {
      "needs_background": "light"
     },
     "output_type": "display_data"
    }
   ],
   "source": [
    "model_o = optimize_LGBM()\n",
    "# Shouldnt be x_train, y_train\n",
    "model_o.fit(X,y)\n",
    "val_preds = model_o.predict(X_val)\n",
    "val_score = np.sqrt(mean_squared_error(y_val, val_preds))\n",
    "print(val_score)\n",
    "model=model_o\n",
    "\n",
    "import lightgbm\n",
    "lightgbm.plot_importance(model, figsize=(8,6));"
   ]
  },
  {
   "cell_type": "code",
   "execution_count": null,
   "id": "ca5b59ae",
   "metadata": {
    "papermill": {
     "duration": 0.047999,
     "end_time": "2022-05-02T19:09:23.525392",
     "exception": false,
     "start_time": "2022-05-02T19:09:23.477393",
     "status": "completed"
    },
    "tags": []
   },
   "outputs": [],
   "source": []
  },
  {
   "cell_type": "code",
   "execution_count": null,
   "id": "db84e719",
   "metadata": {
    "papermill": {
     "duration": 0.051511,
     "end_time": "2022-05-02T19:09:23.625543",
     "exception": false,
     "start_time": "2022-05-02T19:09:23.574032",
     "status": "completed"
    },
    "tags": []
   },
   "outputs": [],
   "source": []
  },
  {
   "cell_type": "markdown",
   "id": "fb11d41b",
   "metadata": {
    "papermill": {
     "duration": 0.051209,
     "end_time": "2022-05-02T19:09:23.725242",
     "exception": false,
     "start_time": "2022-05-02T19:09:23.674033",
     "status": "completed"
    },
    "tags": []
   },
   "source": [
    "## Submission"
   ]
  },
  {
   "cell_type": "code",
   "execution_count": 18,
   "id": "f271193d",
   "metadata": {
    "execution": {
     "iopub.execute_input": "2022-05-02T19:09:23.832128Z",
     "iopub.status.busy": "2022-05-02T19:09:23.831821Z",
     "iopub.status.idle": "2022-05-02T19:09:23.838099Z",
     "shell.execute_reply": "2022-05-02T19:09:23.837001Z"
    },
    "papermill": {
     "duration": 0.064592,
     "end_time": "2022-05-02T19:09:23.841055",
     "exception": false,
     "start_time": "2022-05-02T19:09:23.776463",
     "status": "completed"
    },
    "tags": []
   },
   "outputs": [],
   "source": [
    "def set_rank(sample_prediction):\n",
    "    sample_prediction = sample_prediction.sort_values(by = \"Prediction\", ascending=False)\n",
    "    sample_prediction['Rank'] = np.arange(0,2000)\n",
    "    sample_prediction = sample_prediction.sort_values(by = \"SecuritiesCode\", ascending=True)\n",
    "    return sample_prediction"
   ]
  },
  {
   "cell_type": "code",
   "execution_count": 19,
   "id": "8a8e8fb9",
   "metadata": {
    "execution": {
     "iopub.execute_input": "2022-05-02T19:09:23.942324Z",
     "iopub.status.busy": "2022-05-02T19:09:23.942030Z",
     "iopub.status.idle": "2022-05-02T19:09:41.623797Z",
     "shell.execute_reply": "2022-05-02T19:09:41.622772Z"
    },
    "papermill": {
     "duration": 17.735707,
     "end_time": "2022-05-02T19:09:41.626399",
     "exception": false,
     "start_time": "2022-05-02T19:09:23.890692",
     "status": "completed"
    },
    "tags": []
   },
   "outputs": [
    {
     "name": "stdout",
     "output_type": "stream",
     "text": [
      "This version of the API is not optimized and should not be used to estimate the runtime of your code on the hidden test set.\n"
     ]
    },
    {
     "name": "stderr",
     "output_type": "stream",
     "text": [
      "/opt/conda/lib/python3.7/site-packages/pandas/core/arraylike.py:364: RuntimeWarning: divide by zero encountered in log\n",
      "  result = getattr(ufunc, method)(*inputs, **kwargs)\n",
      "/opt/conda/lib/python3.7/site-packages/pandas/core/arraylike.py:364: RuntimeWarning: divide by zero encountered in log\n",
      "  result = getattr(ufunc, method)(*inputs, **kwargs)\n",
      "/opt/conda/lib/python3.7/site-packages/pandas/core/arraylike.py:364: RuntimeWarning: invalid value encountered in sqrt\n",
      "  result = getattr(ufunc, method)(*inputs, **kwargs)\n"
     ]
    }
   ],
   "source": [
    "import jpx_tokyo_market_prediction\n",
    "env = jpx_tokyo_market_prediction.make_env()\n",
    "iter_test = env.iter_test()\n",
    "\n",
    "df = pd.DataFrame(columns=prices.columns)\n",
    "\n",
    "for (prices, options, financials, trades, secondary_prices, sample_prediction) in iter_test:\n",
    "    X = preprocess(prices)\n",
    "    \n",
    "    sample_prediction[\"Prediction\"] = model.predict(X)\n",
    "    \n",
    "    sample_prediction = set_rank(sample_prediction)\n",
    "#     sample_prediction = sample_prediction.sort_values(by = \"Prediction\", ascending=False)\n",
    "#     sample_prediction['Rank'] = np.arange(0,2000)\n",
    "#     sample_prediction = sample_prediction.sort_values(by = \"SecuritiesCode\", ascending=True)\n",
    "    sample_prediction = sample_prediction.drop([\"Prediction\"],axis=1)\n",
    "    submission = sample_prediction[[\"Date\",\"SecuritiesCode\",\"Rank\"]]\n",
    "    env.predict(submission)"
   ]
  },
  {
   "cell_type": "code",
   "execution_count": null,
   "id": "d7d27fc3",
   "metadata": {
    "papermill": {
     "duration": 0.049571,
     "end_time": "2022-05-02T19:09:41.727237",
     "exception": false,
     "start_time": "2022-05-02T19:09:41.677666",
     "status": "completed"
    },
    "tags": []
   },
   "outputs": [],
   "source": []
  },
  {
   "cell_type": "code",
   "execution_count": 20,
   "id": "b9b232f8",
   "metadata": {
    "execution": {
     "iopub.execute_input": "2022-05-02T19:09:41.828573Z",
     "iopub.status.busy": "2022-05-02T19:09:41.828283Z",
     "iopub.status.idle": "2022-05-02T19:09:41.831963Z",
     "shell.execute_reply": "2022-05-02T19:09:41.831230Z"
    },
    "papermill": {
     "duration": 0.056172,
     "end_time": "2022-05-02T19:09:41.833752",
     "exception": false,
     "start_time": "2022-05-02T19:09:41.777580",
     "status": "completed"
    },
    "tags": []
   },
   "outputs": [],
   "source": [
    "# import numpy as np\n",
    "# import jpx_tokyo_market_prediction\n",
    "# env = jpx_tokyo_market_prediction.make_env()\n",
    "# iter_test = env.iter_test()\n",
    "\n",
    "# counter = 0\n",
    "# # The API will deliver six dataframes in this specific order:\n",
    "# for (prices, options, financials, trades, secondary_prices, sample_prediction) in iter_test:\n",
    "#     df = df.append(preprocess(prices))\n",
    "#     print(df.shape)\n",
    "#     print(prices)\n",
    "#     print(prices['Date'].min())\n",
    "#     sample_prediction['Rank'] = np.arange(len(sample_prediction))\n",
    "#     env.predict(sample_prediction)\n",
    "#     counter += 1"
   ]
  },
  {
   "cell_type": "code",
   "execution_count": null,
   "id": "b74027ea",
   "metadata": {
    "papermill": {
     "duration": 0.049629,
     "end_time": "2022-05-02T19:09:41.932924",
     "exception": false,
     "start_time": "2022-05-02T19:09:41.883295",
     "status": "completed"
    },
    "tags": []
   },
   "outputs": [],
   "source": []
  },
  {
   "cell_type": "code",
   "execution_count": null,
   "id": "1853cb40",
   "metadata": {
    "papermill": {
     "duration": 0.048391,
     "end_time": "2022-05-02T19:09:42.030907",
     "exception": false,
     "start_time": "2022-05-02T19:09:41.982516",
     "status": "completed"
    },
    "tags": []
   },
   "outputs": [],
   "source": []
  }
 ],
 "metadata": {
  "kernelspec": {
   "display_name": "Python 3",
   "language": "python",
   "name": "python3"
  },
  "language_info": {
   "codemirror_mode": {
    "name": "ipython",
    "version": 3
   },
   "file_extension": ".py",
   "mimetype": "text/x-python",
   "name": "python",
   "nbconvert_exporter": "python",
   "pygments_lexer": "ipython3",
   "version": "3.7.12"
  },
  "papermill": {
   "default_parameters": {},
   "duration": 3360.688455,
   "end_time": "2022-05-02T19:09:43.413603",
   "environment_variables": {},
   "exception": null,
   "input_path": "__notebook__.ipynb",
   "output_path": "__notebook__.ipynb",
   "parameters": {},
   "start_time": "2022-05-02T18:13:42.725148",
   "version": "2.3.4"
  }
 },
 "nbformat": 4,
 "nbformat_minor": 5
}
